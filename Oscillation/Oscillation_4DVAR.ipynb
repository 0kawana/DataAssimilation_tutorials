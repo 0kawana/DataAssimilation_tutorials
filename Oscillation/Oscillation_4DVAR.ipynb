{
 "cells": [
  {
   "cell_type": "markdown",
   "metadata": {},
   "source": [
    "# データ同化実習(減衰項つき振動)：4次元変分法\n",
    "本データ同化実習では、簡単なモデルを用いて、代表的なデータ同化手法がどのように働いているのかを確認する。\n",
    "このNotebookでは、減衰項つき振動を対象とする。"
   ]
  },
  {
   "cell_type": "markdown",
   "metadata": {},
   "source": [
    "## 減衰項つき振動\n",
    "対象とする減衰項つき振動を以下のように定式化する。xは位置、vは速度、kはバネ定数、mは質量、rは減衰定数を表す。\n",
    "\n",
    "$$ \\frac{dx}{dt} = v $$\n",
    "$$   \\frac{dv}{dt} = \\frac{-kx-rv}{m} $$"
   ]
  },
  {
   "cell_type": "markdown",
   "metadata": {},
   "source": [
    "## [1]ライブラリをインポートする\n",
    "* numpy:数値計算を効率的に実施するライブラリ\n",
    "* matplotlib:計算結果の可視化をするライブラリ\n",
    "* Oscillation:減衰項つき振動の時間積分と接線形モデルの計算\n",
    "* Visualization:計算結果の可視化およびRMSEの計算"
   ]
  },
  {
   "cell_type": "code",
   "execution_count": 1,
   "metadata": {},
   "outputs": [],
   "source": [
    "import numpy as np\n",
    "import matplotlib.pyplot as plt\n",
    "import Oscillation\n",
    "import Visualization"
   ]
  },
  {
   "cell_type": "markdown",
   "metadata": {},
   "source": [
    "## [2]真値、観測値、誤った初期値からの計算を実施する\n",
    "本実習では双子実験を行う。双子実験とは，同化手法の動作を確認するために行う試行実験の一つである。ある初期値を仮に「真の初期値」とみなして数値実験を行い、その数値実験結果に誤差を加えたものを「観測値」と呼ぶ。そして，「誤った初期値」から始めた数値実験結果に「観測値」を同化することによって、「真の初期値」や「真の数値実験結果」が復元できれば、同化手法が（双子実験の枠組みの中でではあるが）有効であることがわかる。\n",
    "\n",
    "そこで、このNotebookでは、最初に真の初期値から計算した真値(True)、そこに誤差を加えた観測値(Obs.)、誤った初期値から計算した(Sim.)の3つについて、データ同化を実施する前に計算を行うこととする。\n",
    "\n",
    "#### 設定すべきパラメータについて\n",
    "* nt_asm:データ同化を実施する時間ステップ数\n",
    "* nt_prd:データ同化を実施しない予測ステップ数\n",
    "* noise:観測値に与える誤差の標準偏差\n",
    "* xt, vt: 真の初期値\n",
    "* xsf, vsf: 誤った初期値\n",
    "\n",
    "#### 設定しても良いパラメータについて\n",
    "以下のパラメータは設定しなくても適切に計算されるように初期設定を与えている。もし変更したい場合は、__Oscillation__関数を呼び出しているところで、引数に追加することで変更可能。\n",
    "* dt:時間積分のタイムステップ(default=0.01)\n",
    "* k:バネ定数(default=0.5)\n",
    "* mass:質量(default=1.0)\n",
    "* dump:減衰定数(default=0.3)"
   ]
  },
  {
   "cell_type": "code",
   "execution_count": 2,
   "metadata": {},
   "outputs": [],
   "source": [
    "#time step\n",
    "nt_asm = 100\n",
    "nt_prd = 100\n",
    "\n",
    "dt = 0.01\n",
    "k = 0.5\n",
    "mass = 1.0\n",
    "dump = 0.3\n",
    "\n",
    "#Observation noise\n",
    "noise = 0.1 #standard deviation\n",
    "\n",
    "#Initial condition\n",
    "xt = 5.0; vt = 0.0 #True\n",
    "xsf = -4.0; vsf = 0.0 #Simulation\n",
    "\n",
    "#For Visuallization\n",
    "xtrue = [xt];vtrue = [vt] #True for visualization\n",
    "xobs = [xt];vobs = [vt] #Observation for visualization\n",
    "xsim = [xsf]; vsim = [vsf] #Simulation for visualization\n",
    "xs = xsf; vs = vsf\n",
    "\n",
    "for t in range(nt_asm + nt_prd):\n",
    "    #True,Observation and Simulation\n",
    "    osc = Oscillation.Oscillation(xt,vt,noise)\n",
    "    xt, vt = osc.time_integration()\n",
    "    xo, vo = osc.observation_noise()\n",
    "    \n",
    "    #Simulation\n",
    "    osc = Oscillation.Oscillation(xs,vs,noise)\n",
    "    xs, vs = osc.time_integration()\n",
    "        \n",
    "    #visualization\n",
    "    xtrue.append(xt);vtrue.append(vt)\n",
    "    xobs.append(xo);vobs.append(vo)\n",
    "    xsim.append(xs);vsim.append(vs)"
   ]
  },
  {
   "cell_type": "markdown",
   "metadata": {},
   "source": [
    "## [3]データ同化を実施する\n",
    "\n",
    "#### 設定すべきパラメータについて\n",
    "* obs_interval:データ同化の間隔ステップ数\n",
    "* iter_max:最大繰り返し数\n",
    "* B: 背景誤差共分散\n",
    "* H: 観測行列（観測行列は3つから選択可能：位置のみ計測、速度のみ計測、位置と速度の両方計測）"
   ]
  },
  {
   "cell_type": "code",
   "execution_count": 3,
   "metadata": {},
   "outputs": [],
   "source": [
    "def cost(J, H, x, v, xobs, vobs):\n",
    "    \n",
    "    if(len(H)==1 and H[0,0]==1):\n",
    "        J = J + 0.5 * (xobs[t] - xs)**2 / noise\n",
    "    elif(len(H)==1 and H[0,1]==1):\n",
    "        J = J + 0.5 * (vobs - vs)**2 / noise\n",
    "    else:\n",
    "        J = J + 0.5 * (xobs[t] - xs)**2 / noise\n",
    "        J = J + 0.5 * (vobs[t] - vs)**2 / noise\n",
    "    return J"
   ]
  },
  {
   "cell_type": "code",
   "execution_count": 4,
   "metadata": {},
   "outputs": [],
   "source": [
    "#time step\n",
    "obs_interval = 20\n",
    "\n",
    "#initial condition\n",
    "iter_max = 500\n",
    "x_b = xsf; v_b = vsf\n",
    "B = np.array([[1.0, 0.0], [0.0, 1.0]])\n",
    "visJ = []\n",
    "#observation\n",
    "H = np.array([1,0]).reshape(1,2) # Observation only in x\n",
    "#H = np.array([0,1]).reshape(1,2) # Observation only in v\n",
    "#H = np.array([[1,0],[0,1]]) # Observation in x and v\n",
    "\n",
    "xs = xsf; vs = vsf #simulation\n",
    "for iter in range(iter_max):\n",
    "    J = 0.0\n",
    "    adx = 0.0; adv = 0.0\n",
    "    adx_tmp = 0.0; adv_tmp = 0.0\n",
    "    \n",
    "    xda = [xs];vda = [vs] #Data Assimilation for visualization\n",
    "\n",
    "    #simulation\n",
    "    for t in range(nt_asm):\n",
    "        #Data Assimilation\n",
    "        osc = Oscillation.Oscillation(xs,vs,noise)\n",
    "        xs, vs = osc.time_integration()\n",
    "        xda.append(xs)\n",
    "        vda.append(vs)\n",
    "\n",
    "        # Cost Function\n",
    "        if(np.mod(t,obs_interval) == 0):\n",
    "            J = cost(J, H, xs, vs, xobs, vobs)\n",
    "\n",
    "    # Adjoint model\n",
    "    for t in range(nt_asm-1,-1,-1):\n",
    "        if(np.mod(t,obs_interval) == 0):\n",
    "            tmp = adx_tmp + (xda[t] - xobs[t]) / noise\n",
    "        else:\n",
    "            tmp = 0.0\n",
    "        adx = adx_tmp - k * dt / mass * adv_tmp + tmp\n",
    "        adv = dt * adx_tmp + (1.0 - dump * dt / mass) * adv_tmp\n",
    "\n",
    "        adx_tmp = adx\n",
    "        adv_tmp = adv\n",
    "        \n",
    "    # Background \n",
    "    J = J + 0.5 * (xda[0] - x_b)**2 / B[0,0] + 0.5 * (vda[0] - v_b)**2 / B[1,1]\n",
    "    adx = adx + (xda[0] - x_b)/ B[0,0]\n",
    "    adv = adv + (vda[0] - v_b)/ B[1,1]\n",
    "    visJ.append(J)\n",
    "\n",
    "    # Update x and v\n",
    "    xs = xda[0] - 0.001 * adx\n",
    "    vs = vda[0] - 0.001 * adv\n",
    "\n",
    "xda = [xs];vda = [vs] #Data Assimilation for visualization\n",
    "\n",
    "#Prediction\n",
    "for t in range(nt_asm + nt_prd):\n",
    "    #Data Assimilation\n",
    "    osc = Oscillation.Oscillation(xs,vs,noise)\n",
    "    xs, vs = osc.time_integration()\n",
    "\n",
    "    xda.append(xs)\n",
    "    vda.append(vs)"
   ]
  },
  {
   "cell_type": "markdown",
   "metadata": {},
   "source": [
    "## [4]計算結果の可視化"
   ]
  },
  {
   "cell_type": "code",
   "execution_count": 5,
   "metadata": {},
   "outputs": [
    {
     "data": {
      "image/png": "[encoded data removed]",
      "text/plain": [
       "<matplotlib.figure.Figure at 0x24cc1ab9978>"
      ]
     },
     "metadata": {},
     "output_type": "display_data"
    },
    {
     "name": "stdout",
     "output_type": "stream",
     "text": [
      "RMSE of Simulation =  6.92501277872\n",
      "RMSE of DA result =  0.261869443705\n"
     ]
    }
   ],
   "source": [
    "vis = Visualization.Visualization(xobs, xtrue, xsim, xda, obs_interval, nt_asm,'x', 200)\n",
    "vis.fit()\n",
    "vis.rmse()"
   ]
  },
  {
   "cell_type": "code",
   "execution_count": 6,
   "metadata": {},
   "outputs": [
    {
     "data": {
      "image/png": "[encoded data removed]",
      "text/plain": [
       "<matplotlib.figure.Figure at 0x24cc1ab9cf8>"
      ]
     },
     "metadata": {},
     "output_type": "display_data"
    },
    {
     "name": "stdout",
     "output_type": "stream",
     "text": [
      "RMSE of Simulation =  3.48659043819\n",
      "RMSE of DA result =  0.439811327676\n"
     ]
    }
   ],
   "source": [
    "vis = Visualization.Visualization(None, vtrue, vsim, vda,obs_interval, nt_asm, 'v', 200)\n",
    "vis.fit()\n",
    "vis.rmse()"
   ]
  },
  {
   "cell_type": "code",
   "execution_count": null,
   "metadata": {},
   "outputs": [],
   "source": []
  },
  {
   "cell_type": "code",
   "execution_count": null,
   "metadata": {},
   "outputs": [],
   "source": []
  }
 ],
 "metadata": {
  "kernelspec": {
   "display_name": "Python 3",
   "language": "python",
   "name": "python3"
  },
  "language_info": {
   "codemirror_mode": {
    "name": "ipython",
    "version": 3
   },
   "file_extension": ".py",
   "mimetype": "text/x-python",
   "name": "python",
   "nbconvert_exporter": "python",
   "pygments_lexer": "ipython3",
   "version": "3.6.3"
  }
 },
 "nbformat": 4,
 "nbformat_minor": 2
}
